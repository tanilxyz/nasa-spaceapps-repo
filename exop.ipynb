{
 "cells": [
  {
   "cell_type": "code",
   "execution_count": 1,
   "id": "f8aadbf6",
   "metadata": {},
   "outputs": [
    {
     "name": "stdout",
     "output_type": "stream",
     "text": [
      "Note: you may need to restart the kernel to use updated packages.\n"
     ]
    }
   ],
   "source": [
    "%pip install lightkurve --quiet"
   ]
  },
  {
   "cell_type": "code",
   "execution_count": 1,
   "id": "9ccb5e1a",
   "metadata": {},
   "outputs": [
    {
     "name": "stderr",
     "output_type": "stream",
     "text": [
      "c:\\Users\\tanil\\AppData\\Local\\Programs\\Python\\Python312\\Lib\\site-packages\\lightkurve\\prf\\__init__.py:7: UserWarning: Warning: the tpfmodel submodule is not available without oktopus installed, which requires a current version of autograd. See #1452 for details.\n",
      "  warnings.warn(\n"
     ]
    }
   ],
   "source": [
    "import lightkurve as lk\n",
    "import numpy as np\n",
    "import matplotlib.pyplot as plt\n",
    "%matplotlib inline"
   ]
  },
  {
   "cell_type": "code",
   "execution_count": null,
   "id": "a5597ab4",
   "metadata": {},
   "outputs": [],
   "source": [
    "search_ffi = lk.search_tesscut('Pi Mensae')\n",
    "search_tpf = lk.search_targetpixelfile('Pi Mensae')\n",
    "search_lcf = lk.search_lightcurve('Pi Mensae') "
   ]
  },
  {
   "cell_type": "code",
   "execution_count": null,
   "id": "db0335ac",
   "metadata": {},
   "outputs": [],
   "source": [
    "search_ffi"
   ]
  }
 ],
 "metadata": {
  "kernelspec": {
   "display_name": "Python 3",
   "language": "python",
   "name": "python3"
  },
  "language_info": {
   "codemirror_mode": {
    "name": "ipython",
    "version": 3
   },
   "file_extension": ".py",
   "mimetype": "text/x-python",
   "name": "python",
   "nbconvert_exporter": "python",
   "pygments_lexer": "ipython3",
   "version": "3.12.4"
  }
 },
 "nbformat": 4,
 "nbformat_minor": 5
}
